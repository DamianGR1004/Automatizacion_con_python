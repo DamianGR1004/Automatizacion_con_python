{
  "nbformat": 4,
  "nbformat_minor": 0,
  "metadata": {
    "colab": {
      "provenance": []
    },
    "kernelspec": {
      "name": "python3",
      "display_name": "Python 3"
    },
    "language_info": {
      "name": "python"
    }
  },
  "cells": [
    {
      "cell_type": "markdown",
      "source": [
        "# Día 4: Automatización con schedule y time"
      ],
      "metadata": {
        "id": "v7lzGBnYbcP5"
      }
    },
    {
      "cell_type": "markdown",
      "source": [
        "### Objetivos\n",
        "\n",
        "*   Uso de la librería schedule para programar tareas\n",
        "*   Bucle de ejecución con time.sleep() para revisar si hay tareas pendientes\n",
        "*   Programar tareas por hora, día o intervalo\n",
        "*   Ejecutar múltiples tareas en paralelo (básico)\n",
        "*   Combinar con scripts previos para ejecutar reportes automáticamente"
      ],
      "metadata": {
        "id": "4UUxogJSbt04"
      }
    },
    {
      "cell_type": "code",
      "execution_count": 1,
      "metadata": {
        "colab": {
          "base_uri": "https://localhost:8080/"
        },
        "id": "nUzXB3OIba4P",
        "outputId": "1cd56c14-cf5c-45bd-ef6f-8b939ce73393"
      },
      "outputs": [
        {
          "output_type": "stream",
          "name": "stdout",
          "text": [
            "Collecting schedule\n",
            "  Downloading schedule-1.2.2-py3-none-any.whl.metadata (3.8 kB)\n",
            "Downloading schedule-1.2.2-py3-none-any.whl (12 kB)\n",
            "Installing collected packages: schedule\n",
            "Successfully installed schedule-1.2.2\n"
          ]
        }
      ],
      "source": [
        "# Instalando schedule\n",
        "\n",
        "!pip install schedule"
      ]
    },
    {
      "cell_type": "markdown",
      "source": [
        "#### Ejercicio 1: Vamos a crear un script que imprima el mensaje \"Hola, esta es tu primer tarea de automatización\""
      ],
      "metadata": {
        "id": "haPy4B4QcTO0"
      }
    },
    {
      "cell_type": "code",
      "source": [
        "import pandas as pd\n",
        "import schedule\n",
        "import time"
      ],
      "metadata": {
        "id": "uFX_TzQkcGAt"
      },
      "execution_count": 2,
      "outputs": []
    },
    {
      "cell_type": "code",
      "source": [
        "def saludo():\n",
        "  print(\"Hola, esta es tu primer tarea de automatización\")\n",
        "\n",
        "schedule.every(1).minutes.do(saludo)\n",
        "\n",
        "print(\"Esperando para saludar\")\n",
        "\n",
        "while True:\n",
        "  schedule.run_pending()\n",
        "  time.sleep(1)"
      ],
      "metadata": {
        "colab": {
          "base_uri": "https://localhost:8080/"
        },
        "id": "meukHIKjcdy8",
        "outputId": "1e5267dc-e57b-4f63-b6ed-6fcf13722e0d"
      },
      "execution_count": null,
      "outputs": [
        {
          "output_type": "stream",
          "name": "stdout",
          "text": [
            "Esperando para saludar\n",
            "Hola, esta es tu primer tarea de automatización\n",
            "Hola, esta es tu primer tarea de automatización\n",
            "Hola, esta es tu primer tarea de automatización\n"
          ]
        }
      ]
    },
    {
      "cell_type": "markdown",
      "source": [
        "#### Ejercicio 2: Ejecutar una función cada lunes a las 08:00 AM"
      ],
      "metadata": {
        "id": "3_3HbaRJdLQo"
      }
    },
    {
      "cell_type": "code",
      "source": [
        "# Vamos a crear una función que gebnere un rerporte, y se ejecute los lunes a las 08:00\n",
        "\n",
        "def generar_reporte():\n",
        "  print(\"Generando reporte\")\n",
        "\n",
        "schedule.every().monday.at(\"08:00\").do(generar_reporte)\n",
        "\n",
        "print(\"Esperando para generar reporte\")\n",
        "\n",
        "while True:\n",
        "  schedule.run_pending()\n",
        "  time.sleep(1)"
      ],
      "metadata": {
        "id": "Xz-B2vMZcyoU"
      },
      "execution_count": null,
      "outputs": []
    },
    {
      "cell_type": "markdown",
      "source": [
        "#### Ejercicio 3: Automatizando multiples tareas\n",
        "\n",
        "Crearemos un script que salude cada 10 segundos, genere un reporte cada minuto e imprima un mensaje \"respaldo de datos\" cada 2 minutos"
      ],
      "metadata": {
        "id": "wzOlXJOWeAey"
      }
    },
    {
      "cell_type": "code",
      "source": [
        "def saludo():\n",
        "  print(\"Hola, esta es tu primer tarea de automatización\")\n",
        "\n",
        "def generar_reporte():\n",
        "  print(\"Generando reporte\")\n",
        "\n",
        "def respaldo_datos():\n",
        "  print(\"Respaldo de datos\")\n",
        "\n",
        "schedule.every(10).seconds.do(saludo)\n",
        "schedule.every(1).minutes.do(generar_reporte)\n",
        "schedule.every(2).minutes.do(respaldo_datos)\n",
        "\n",
        "while True:\n",
        "  schedule.run_pending()\n",
        "  time.sleep(1)"
      ],
      "metadata": {
        "id": "2pIlhPemdfM3"
      },
      "execution_count": null,
      "outputs": []
    },
    {
      "cell_type": "code",
      "source": [],
      "metadata": {
        "id": "rgSPlPjnecFd"
      },
      "execution_count": null,
      "outputs": []
    }
  ]
}