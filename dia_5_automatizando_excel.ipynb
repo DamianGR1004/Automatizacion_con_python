{
  "nbformat": 4,
  "nbformat_minor": 0,
  "metadata": {
    "colab": {
      "provenance": []
    },
    "kernelspec": {
      "name": "python3",
      "display_name": "Python 3"
    },
    "language_info": {
      "name": "python"
    }
  },
  "cells": [
    {
      "cell_type": "markdown",
      "source": [
        "# Día 5: Automatización de un reporte en Excel"
      ],
      "metadata": {
        "id": "J_inzxNfvvkv"
      }
    },
    {
      "cell_type": "markdown",
      "source": [
        "### Objetivo:\n",
        "\n",
        "Aprender a generar automaticamente un archivo de Excel a partir de datos con:\n",
        "\n",
        "*   Múltiples hojas\n",
        "*   Formato aplicado (negritas, filtros, anchos)\n",
        "*   Tablas resumen\n",
        "*   Nombre del archivo con fecha"
      ],
      "metadata": {
        "id": "9J-PGYKmv2gp"
      }
    },
    {
      "cell_type": "markdown",
      "source": [
        "#### Situación 1:\n",
        "\n",
        "Recibes datos del departamento de ventas por producto, necesitas crear un excel com el resumen de ventas por producto, graficarlo, guardarlo con un nombre homologado (reporte_ventas_DD_MM_YYYY), programarlo para generarse de lunes a viernes a las 08:00"
      ],
      "metadata": {
        "id": "3YBgy8UYwRFv"
      }
    },
    {
      "cell_type": "code",
      "execution_count": 1,
      "metadata": {
        "colab": {
          "base_uri": "https://localhost:8080/"
        },
        "id": "HxyEYS-jqMT6",
        "outputId": "24406d2d-9099-4195-80e0-c6d90bbc8e1c"
      },
      "outputs": [
        {
          "output_type": "stream",
          "name": "stdout",
          "text": [
            "Requirement already satisfied: openpyxl in /usr/local/lib/python3.11/dist-packages (3.1.5)\n",
            "Requirement already satisfied: et-xmlfile in /usr/local/lib/python3.11/dist-packages (from openpyxl) (2.0.0)\n"
          ]
        }
      ],
      "source": [
        "!pip install openpyxl"
      ]
    },
    {
      "cell_type": "markdown",
      "source": [
        "#### Simulación de datos"
      ],
      "metadata": {
        "id": "tKlamjVKw-YW"
      }
    },
    {
      "cell_type": "code",
      "source": [
        "import pandas as pd\n",
        "import datetime as datetime\n",
        "import numpy as np"
      ],
      "metadata": {
        "id": "Xt3HDcO_wv6C"
      },
      "execution_count": 2,
      "outputs": []
    },
    {
      "cell_type": "code",
      "source": [
        "# Simulando los datos de ventas\n",
        "\n",
        "productos = ['Producto A', 'Producto B', 'Producto C', 'Producto D', 'Producto E']\n",
        "regiones = ['Norte', 'Centro', 'Oriente', 'Poniente', 'Sur']\n",
        "\n",
        "df = pd.DataFrame({\n",
        "    'Producto': np.random.choice(productos, size=50),\n",
        "    'Región': np.random.choice(regiones, size=50),\n",
        "    'Ventas': np.random.randint(100, 500, size=50),\n",
        "})"
      ],
      "metadata": {
        "id": "LZGPbY0pxHk4"
      },
      "execution_count": 11,
      "outputs": []
    },
    {
      "cell_type": "code",
      "source": [
        "df.head()"
      ],
      "metadata": {
        "colab": {
          "base_uri": "https://localhost:8080/",
          "height": 206
        },
        "id": "_khiUexKxmWk",
        "outputId": "65f1c2b2-5d5e-4474-b919-8d01ac8936ee"
      },
      "execution_count": 12,
      "outputs": [
        {
          "output_type": "execute_result",
          "data": {
            "text/plain": [
              "     Producto   Región  Ventas\n",
              "0  Producto D      Sur     414\n",
              "1  Producto D      Sur     257\n",
              "2  Producto A   Centro     334\n",
              "3  Producto B  Oriente     438\n",
              "4  Producto C   Centro     459"
            ],
            "text/html": [
              "\n",
              "  <div id=\"df-75ab5ac5-9e7c-4e0a-a30b-cb7d2a9d1e13\" class=\"colab-df-container\">\n",
              "    <div>\n",
              "<style scoped>\n",
              "    .dataframe tbody tr th:only-of-type {\n",
              "        vertical-align: middle;\n",
              "    }\n",
              "\n",
              "    .dataframe tbody tr th {\n",
              "        vertical-align: top;\n",
              "    }\n",
              "\n",
              "    .dataframe thead th {\n",
              "        text-align: right;\n",
              "    }\n",
              "</style>\n",
              "<table border=\"1\" class=\"dataframe\">\n",
              "  <thead>\n",
              "    <tr style=\"text-align: right;\">\n",
              "      <th></th>\n",
              "      <th>Producto</th>\n",
              "      <th>Región</th>\n",
              "      <th>Ventas</th>\n",
              "    </tr>\n",
              "  </thead>\n",
              "  <tbody>\n",
              "    <tr>\n",
              "      <th>0</th>\n",
              "      <td>Producto D</td>\n",
              "      <td>Sur</td>\n",
              "      <td>414</td>\n",
              "    </tr>\n",
              "    <tr>\n",
              "      <th>1</th>\n",
              "      <td>Producto D</td>\n",
              "      <td>Sur</td>\n",
              "      <td>257</td>\n",
              "    </tr>\n",
              "    <tr>\n",
              "      <th>2</th>\n",
              "      <td>Producto A</td>\n",
              "      <td>Centro</td>\n",
              "      <td>334</td>\n",
              "    </tr>\n",
              "    <tr>\n",
              "      <th>3</th>\n",
              "      <td>Producto B</td>\n",
              "      <td>Oriente</td>\n",
              "      <td>438</td>\n",
              "    </tr>\n",
              "    <tr>\n",
              "      <th>4</th>\n",
              "      <td>Producto C</td>\n",
              "      <td>Centro</td>\n",
              "      <td>459</td>\n",
              "    </tr>\n",
              "  </tbody>\n",
              "</table>\n",
              "</div>\n",
              "    <div class=\"colab-df-buttons\">\n",
              "\n",
              "  <div class=\"colab-df-container\">\n",
              "    <button class=\"colab-df-convert\" onclick=\"convertToInteractive('df-75ab5ac5-9e7c-4e0a-a30b-cb7d2a9d1e13')\"\n",
              "            title=\"Convert this dataframe to an interactive table.\"\n",
              "            style=\"display:none;\">\n",
              "\n",
              "  <svg xmlns=\"http://www.w3.org/2000/svg\" height=\"24px\" viewBox=\"0 -960 960 960\">\n",
              "    <path d=\"M120-120v-720h720v720H120Zm60-500h600v-160H180v160Zm220 220h160v-160H400v160Zm0 220h160v-160H400v160ZM180-400h160v-160H180v160Zm440 0h160v-160H620v160ZM180-180h160v-160H180v160Zm440 0h160v-160H620v160Z\"/>\n",
              "  </svg>\n",
              "    </button>\n",
              "\n",
              "  <style>\n",
              "    .colab-df-container {\n",
              "      display:flex;\n",
              "      gap: 12px;\n",
              "    }\n",
              "\n",
              "    .colab-df-convert {\n",
              "      background-color: #E8F0FE;\n",
              "      border: none;\n",
              "      border-radius: 50%;\n",
              "      cursor: pointer;\n",
              "      display: none;\n",
              "      fill: #1967D2;\n",
              "      height: 32px;\n",
              "      padding: 0 0 0 0;\n",
              "      width: 32px;\n",
              "    }\n",
              "\n",
              "    .colab-df-convert:hover {\n",
              "      background-color: #E2EBFA;\n",
              "      box-shadow: 0px 1px 2px rgba(60, 64, 67, 0.3), 0px 1px 3px 1px rgba(60, 64, 67, 0.15);\n",
              "      fill: #174EA6;\n",
              "    }\n",
              "\n",
              "    .colab-df-buttons div {\n",
              "      margin-bottom: 4px;\n",
              "    }\n",
              "\n",
              "    [theme=dark] .colab-df-convert {\n",
              "      background-color: #3B4455;\n",
              "      fill: #D2E3FC;\n",
              "    }\n",
              "\n",
              "    [theme=dark] .colab-df-convert:hover {\n",
              "      background-color: #434B5C;\n",
              "      box-shadow: 0px 1px 3px 1px rgba(0, 0, 0, 0.15);\n",
              "      filter: drop-shadow(0px 1px 2px rgba(0, 0, 0, 0.3));\n",
              "      fill: #FFFFFF;\n",
              "    }\n",
              "  </style>\n",
              "\n",
              "    <script>\n",
              "      const buttonEl =\n",
              "        document.querySelector('#df-75ab5ac5-9e7c-4e0a-a30b-cb7d2a9d1e13 button.colab-df-convert');\n",
              "      buttonEl.style.display =\n",
              "        google.colab.kernel.accessAllowed ? 'block' : 'none';\n",
              "\n",
              "      async function convertToInteractive(key) {\n",
              "        const element = document.querySelector('#df-75ab5ac5-9e7c-4e0a-a30b-cb7d2a9d1e13');\n",
              "        const dataTable =\n",
              "          await google.colab.kernel.invokeFunction('convertToInteractive',\n",
              "                                                    [key], {});\n",
              "        if (!dataTable) return;\n",
              "\n",
              "        const docLinkHtml = 'Like what you see? Visit the ' +\n",
              "          '<a target=\"_blank\" href=https://colab.research.google.com/notebooks/data_table.ipynb>data table notebook</a>'\n",
              "          + ' to learn more about interactive tables.';\n",
              "        element.innerHTML = '';\n",
              "        dataTable['output_type'] = 'display_data';\n",
              "        await google.colab.output.renderOutput(dataTable, element);\n",
              "        const docLink = document.createElement('div');\n",
              "        docLink.innerHTML = docLinkHtml;\n",
              "        element.appendChild(docLink);\n",
              "      }\n",
              "    </script>\n",
              "  </div>\n",
              "\n",
              "\n",
              "    <div id=\"df-5be63025-4130-4f61-9477-236c403d70e0\">\n",
              "      <button class=\"colab-df-quickchart\" onclick=\"quickchart('df-5be63025-4130-4f61-9477-236c403d70e0')\"\n",
              "                title=\"Suggest charts\"\n",
              "                style=\"display:none;\">\n",
              "\n",
              "<svg xmlns=\"http://www.w3.org/2000/svg\" height=\"24px\"viewBox=\"0 0 24 24\"\n",
              "     width=\"24px\">\n",
              "    <g>\n",
              "        <path d=\"M19 3H5c-1.1 0-2 .9-2 2v14c0 1.1.9 2 2 2h14c1.1 0 2-.9 2-2V5c0-1.1-.9-2-2-2zM9 17H7v-7h2v7zm4 0h-2V7h2v10zm4 0h-2v-4h2v4z\"/>\n",
              "    </g>\n",
              "</svg>\n",
              "      </button>\n",
              "\n",
              "<style>\n",
              "  .colab-df-quickchart {\n",
              "      --bg-color: #E8F0FE;\n",
              "      --fill-color: #1967D2;\n",
              "      --hover-bg-color: #E2EBFA;\n",
              "      --hover-fill-color: #174EA6;\n",
              "      --disabled-fill-color: #AAA;\n",
              "      --disabled-bg-color: #DDD;\n",
              "  }\n",
              "\n",
              "  [theme=dark] .colab-df-quickchart {\n",
              "      --bg-color: #3B4455;\n",
              "      --fill-color: #D2E3FC;\n",
              "      --hover-bg-color: #434B5C;\n",
              "      --hover-fill-color: #FFFFFF;\n",
              "      --disabled-bg-color: #3B4455;\n",
              "      --disabled-fill-color: #666;\n",
              "  }\n",
              "\n",
              "  .colab-df-quickchart {\n",
              "    background-color: var(--bg-color);\n",
              "    border: none;\n",
              "    border-radius: 50%;\n",
              "    cursor: pointer;\n",
              "    display: none;\n",
              "    fill: var(--fill-color);\n",
              "    height: 32px;\n",
              "    padding: 0;\n",
              "    width: 32px;\n",
              "  }\n",
              "\n",
              "  .colab-df-quickchart:hover {\n",
              "    background-color: var(--hover-bg-color);\n",
              "    box-shadow: 0 1px 2px rgba(60, 64, 67, 0.3), 0 1px 3px 1px rgba(60, 64, 67, 0.15);\n",
              "    fill: var(--button-hover-fill-color);\n",
              "  }\n",
              "\n",
              "  .colab-df-quickchart-complete:disabled,\n",
              "  .colab-df-quickchart-complete:disabled:hover {\n",
              "    background-color: var(--disabled-bg-color);\n",
              "    fill: var(--disabled-fill-color);\n",
              "    box-shadow: none;\n",
              "  }\n",
              "\n",
              "  .colab-df-spinner {\n",
              "    border: 2px solid var(--fill-color);\n",
              "    border-color: transparent;\n",
              "    border-bottom-color: var(--fill-color);\n",
              "    animation:\n",
              "      spin 1s steps(1) infinite;\n",
              "  }\n",
              "\n",
              "  @keyframes spin {\n",
              "    0% {\n",
              "      border-color: transparent;\n",
              "      border-bottom-color: var(--fill-color);\n",
              "      border-left-color: var(--fill-color);\n",
              "    }\n",
              "    20% {\n",
              "      border-color: transparent;\n",
              "      border-left-color: var(--fill-color);\n",
              "      border-top-color: var(--fill-color);\n",
              "    }\n",
              "    30% {\n",
              "      border-color: transparent;\n",
              "      border-left-color: var(--fill-color);\n",
              "      border-top-color: var(--fill-color);\n",
              "      border-right-color: var(--fill-color);\n",
              "    }\n",
              "    40% {\n",
              "      border-color: transparent;\n",
              "      border-right-color: var(--fill-color);\n",
              "      border-top-color: var(--fill-color);\n",
              "    }\n",
              "    60% {\n",
              "      border-color: transparent;\n",
              "      border-right-color: var(--fill-color);\n",
              "    }\n",
              "    80% {\n",
              "      border-color: transparent;\n",
              "      border-right-color: var(--fill-color);\n",
              "      border-bottom-color: var(--fill-color);\n",
              "    }\n",
              "    90% {\n",
              "      border-color: transparent;\n",
              "      border-bottom-color: var(--fill-color);\n",
              "    }\n",
              "  }\n",
              "</style>\n",
              "\n",
              "      <script>\n",
              "        async function quickchart(key) {\n",
              "          const quickchartButtonEl =\n",
              "            document.querySelector('#' + key + ' button');\n",
              "          quickchartButtonEl.disabled = true;  // To prevent multiple clicks.\n",
              "          quickchartButtonEl.classList.add('colab-df-spinner');\n",
              "          try {\n",
              "            const charts = await google.colab.kernel.invokeFunction(\n",
              "                'suggestCharts', [key], {});\n",
              "          } catch (error) {\n",
              "            console.error('Error during call to suggestCharts:', error);\n",
              "          }\n",
              "          quickchartButtonEl.classList.remove('colab-df-spinner');\n",
              "          quickchartButtonEl.classList.add('colab-df-quickchart-complete');\n",
              "        }\n",
              "        (() => {\n",
              "          let quickchartButtonEl =\n",
              "            document.querySelector('#df-5be63025-4130-4f61-9477-236c403d70e0 button');\n",
              "          quickchartButtonEl.style.display =\n",
              "            google.colab.kernel.accessAllowed ? 'block' : 'none';\n",
              "        })();\n",
              "      </script>\n",
              "    </div>\n",
              "\n",
              "    </div>\n",
              "  </div>\n"
            ],
            "application/vnd.google.colaboratory.intrinsic+json": {
              "type": "dataframe",
              "variable_name": "df",
              "summary": "{\n  \"name\": \"df\",\n  \"rows\": 50,\n  \"fields\": [\n    {\n      \"column\": \"Producto\",\n      \"properties\": {\n        \"dtype\": \"category\",\n        \"num_unique_values\": 5,\n        \"samples\": [\n          \"Producto A\",\n          \"Producto E\",\n          \"Producto B\"\n        ],\n        \"semantic_type\": \"\",\n        \"description\": \"\"\n      }\n    },\n    {\n      \"column\": \"Regi\\u00f3n\",\n      \"properties\": {\n        \"dtype\": \"category\",\n        \"num_unique_values\": 5,\n        \"samples\": [\n          \"Centro\",\n          \"Poniente\",\n          \"Oriente\"\n        ],\n        \"semantic_type\": \"\",\n        \"description\": \"\"\n      }\n    },\n    {\n      \"column\": \"Ventas\",\n      \"properties\": {\n        \"dtype\": \"number\",\n        \"std\": 115,\n        \"min\": 109,\n        \"max\": 493,\n        \"num_unique_values\": 45,\n        \"samples\": [\n          109,\n          253,\n          283\n        ],\n        \"semantic_type\": \"\",\n        \"description\": \"\"\n      }\n    }\n  ]\n}"
            }
          },
          "metadata": {},
          "execution_count": 12
        }
      ]
    },
    {
      "cell_type": "markdown",
      "source": [
        "#### Crear el excel con formato"
      ],
      "metadata": {
        "id": "xjYlUIISx3J2"
      }
    },
    {
      "cell_type": "code",
      "source": [
        "# Fecha para el nombre del archivo\n",
        "hoy = datetime.date.today().strftime('%d_%m_%Y')\n",
        "nombre_archivo = f'reporte_ventas_{hoy}.xlsx'\n",
        "\n",
        "# Crear un resumen por producto y región\n",
        "resumen = df.groupby(['Producto', 'Región']).sum().reset_index()\n",
        "\n",
        "# Crear el excel\n",
        "with pd.ExcelWriter(nombre_archivo, engine='openpyxl') as writer:\n",
        "    df.to_excel(writer, sheet_name='datos', index=False)\n",
        "    resumen.to_excel(writer, sheet_name='Resumen', index=False)\n",
        "\n",
        "    # Access the workbook and sheets\n",
        "    workbook = writer.book\n",
        "    worksheet = workbook['Resumen']\n",
        "\n",
        "    # Formato a los encabezados using openpyxl\n",
        "    from openpyxl.styles import Font, PatternFill, Alignment\n",
        "\n",
        "    font = Font(bold=True)\n",
        "    fill = PatternFill(start_color='F2F2F2', end_color='F2F2F2', fill_type='solid')\n",
        "    alignment = Alignment(horizontal='center', vertical='center')\n",
        "\n",
        "    # Apply format to headers\n",
        "    for col_num, value in enumerate(resumen.columns):\n",
        "        cell = worksheet.cell(row=1, column=col_num + 1)\n",
        "        cell.font = font\n",
        "        cell.fill = fill\n",
        "        cell.alignment = alignment\n",
        "\n",
        "    # Ajustar ancho de columnas automaticamente\n",
        "    for i, col in enumerate(resumen.columns):\n",
        "        max_len = max(resumen[col].astype(str).map(len).max(), len(col))\n",
        "        worksheet.column_dimensions[chr(65 + i)].width = max_len + 2\n",
        "\n",
        "\n",
        "    # Create a new sheet for the chart\n",
        "    worksheet_grafica = workbook.create_sheet('Grafica')\n",
        "\n",
        "    # Import chart classes\n",
        "    from openpyxl.chart import BarChart, Reference\n",
        "\n",
        "    # Create a Bar chart\n",
        "    chart = BarChart()\n",
        "\n",
        "    # Add data to the chart\n",
        "    data = Reference(worksheet, min_col=3, min_row=2, max_col=3, max_row=len(resumen) + 1)\n",
        "    categories = Reference(worksheet, min_col=1, min_row=2, max_col=1, max_row=len(resumen) + 1)\n",
        "\n",
        "    chart.add_data(data, titles_from_data=False)\n",
        "    chart.set_categories(categories)\n",
        "\n",
        "    # Set chart title and axis titles\n",
        "    chart.title = \"Ventas por Producto y Región\"\n",
        "    chart.x_axis.title = \"Producto y Región\"\n",
        "    chart.y_axis.title = \"Ventas\"\n",
        "\n",
        "    # Insert the chart into the 'Grafica' sheet\n",
        "    worksheet_grafica.add_chart(chart, \"B3\")"
      ],
      "metadata": {
        "id": "waUWaBnhxqTV"
      },
      "execution_count": 27,
      "outputs": []
    },
    {
      "cell_type": "markdown",
      "source": [
        "### Automatizando con **schedule**"
      ],
      "metadata": {
        "id": "CwevZIFY1Io8"
      }
    },
    {
      "cell_type": "code",
      "source": [
        "!pip install schedule"
      ],
      "metadata": {
        "colab": {
          "base_uri": "https://localhost:8080/"
        },
        "id": "SsBYNC7yyHof",
        "outputId": "e3e4c4ca-2c45-41de-97f5-611e33ba6f75"
      },
      "execution_count": 26,
      "outputs": [
        {
          "output_type": "stream",
          "name": "stdout",
          "text": [
            "Requirement already satisfied: schedule in /usr/local/lib/python3.11/dist-packages (1.2.2)\n"
          ]
        }
      ]
    },
    {
      "cell_type": "code",
      "source": [
        "import schedule\n",
        "import time"
      ],
      "metadata": {
        "id": "Rgc6-BmR3tao"
      },
      "execution_count": 25,
      "outputs": []
    },
    {
      "cell_type": "code",
      "source": [
        "\"\"\"\n",
        "def generar_reporte():\n",
        "    print('Generando reporte de ventas diario')\n",
        "    # Fecha para el nombre del archivo\n",
        "    hoy = datetime.date.today().strftime('%d_%m_%Y')\n",
        "    nombre_archivo = f'reporte_ventas_{hoy}.xlsx'\n",
        "\n",
        "    # Crear un resumen por producto y región\n",
        "    resumen = df.groupby(['Producto', 'Región']).sum().reset_index()\n",
        "\n",
        "    # Crear el excel\n",
        "    with pd.ExcelWriter(nombre_archivo, engine='openpyxl') as writer:\n",
        "        df.to_excel(writer, sheet_name='datos', index=False)\n",
        "        resumen.to_excel(writer, sheet_name='Resumen', index=False)\n",
        "\n",
        "        # Access the workbook and sheets\n",
        "        workbook = writer.book\n",
        "        worksheet = workbook['Resumen']\n",
        "\n",
        "        # Formato a los encabezados using openpyxl\n",
        "        from openpyxl.styles import Font, PatternFill, Alignment\n",
        "\n",
        "        font = Font(bold=True)\n",
        "        fill = PatternFill(start_color='F2F2F2', end_color='F2F2F2', fill_type='solid')\n",
        "        alignment = Alignment(horizontal='center', vertical='center')\n",
        "\n",
        "        # Apply format to headers\n",
        "        for col_num, value in enumerate(resumen.columns):\n",
        "            cell = worksheet.cell(row=1, column=col_num + 1)\n",
        "            cell.font = font\n",
        "            cell.fill = fill\n",
        "            cell.alignment = alignment\n",
        "\n",
        "        # Ajustar ancho de columnas automaticamente\n",
        "        for i, col in enumerate(resumen.columns):\n",
        "            max_len = max(resumen[col].astype(str).map(len).max(), len(col))\n",
        "            worksheet.column_dimensions[chr(65 + i)].width = max_len + 2\n",
        "\n",
        "\n",
        "        # Create a new sheet for the chart\n",
        "        worksheet_grafica = workbook.create_sheet('Grafica')\n",
        "\n",
        "        # Import chart classes\n",
        "        from openpyxl.chart import BarChart, Reference\n",
        "\n",
        "        # Create a Bar chart\n",
        "        chart = BarChart()\n",
        "\n",
        "        # Add data to the chart\n",
        "        data = Reference(worksheet, min_col=3, min_row=2, max_col=3, max_row=len(resumen) + 1)\n",
        "        categories = Reference(worksheet, min_col=1, min_row=2, max_col=1, max_row=len(resumen) + 1)\n",
        "\n",
        "        chart.add_data(data, titles_from_data=False)\n",
        "        chart.set_categories(categories)\n",
        "\n",
        "        # Set chart title and axis titles\n",
        "        chart.title = \"Ventas por Producto y Región\"\n",
        "        chart.x_axis.title = \"Producto y Región\"\n",
        "        chart.y_axis.title = \"Ventas\"\n",
        "\n",
        "        # Insert the chart into the 'Grafica' sheet\n",
        "        worksheet_grafica.add_chart(chart, \"B3\")\n",
        "\n",
        "\n",
        "#Ejecutar cada día a las 08:00\n",
        "schedule.every().day.at(\"08:00\").do(generar_reporte)\n",
        "\n",
        "while True:\n",
        "    schedule.run_pending()\n",
        "    time.sleep(1)\n",
        "\n",
        "\"\"\""
      ],
      "metadata": {
        "colab": {
          "base_uri": "https://localhost:8080/",
          "height": 122
        },
        "id": "tlQhcvK237n-",
        "outputId": "60c55c49-700e-4fac-e083-8736808b7e77"
      },
      "execution_count": 29,
      "outputs": [
        {
          "output_type": "execute_result",
          "data": {
            "text/plain": [
              "'\\ndef generar_reporte():\\n    print(\\'Generando reporte de ventas diario\\')\\n    # Fecha para el nombre del archivo\\n    hoy = datetime.date.today().strftime(\\'%d_%m_%Y\\')\\n    nombre_archivo = f\\'reporte_ventas_{hoy}.xlsx\\'\\n\\n    # Crear un resumen por producto y región\\n    resumen = df.groupby([\\'Producto\\', \\'Región\\']).sum().reset_index()\\n\\n    # Crear el excel\\n    with pd.ExcelWriter(nombre_archivo, engine=\\'openpyxl\\') as writer:\\n        df.to_excel(writer, sheet_name=\\'datos\\', index=False)\\n        resumen.to_excel(writer, sheet_name=\\'Resumen\\', index=False)\\n\\n        # Access the workbook and sheets\\n        workbook = writer.book\\n        worksheet = workbook[\\'Resumen\\']\\n\\n        # Formato a los encabezados using openpyxl\\n        from openpyxl.styles import Font, PatternFill, Alignment\\n\\n        font = Font(bold=True)\\n        fill = PatternFill(start_color=\\'F2F2F2\\', end_color=\\'F2F2F2\\', fill_type=\\'solid\\')\\n        alignment = Alignment(horizontal=\\'center\\', vertical=\\'center\\')\\n\\n        # Apply format to headers\\n        for col_num, value in enumerate(resumen.columns):\\n            cell = worksheet.cell(row=1, column=col_num + 1)\\n            cell.font = font\\n            cell.fill = fill\\n            cell.alignment = alignment\\n\\n        # Ajustar ancho de columnas automaticamente\\n        for i, col in enumerate(resumen.columns):\\n            max_len = max(resumen[col].astype(str).map(len).max(), len(col))\\n            worksheet.column_dimensions[chr(65 + i)].width = max_len + 2\\n\\n\\n        # Create a new sheet for the chart\\n        worksheet_grafica = workbook.create_sheet(\\'Grafica\\')\\n\\n        # Import chart classes\\n        from openpyxl.chart import BarChart, Reference\\n\\n        # Create a Bar chart\\n        chart = BarChart()\\n\\n        # Add data to the chart\\n        data = Reference(worksheet, min_col=3, min_row=2, max_col=3, max_row=len(resumen) + 1)\\n        categories = Reference(worksheet, min_col=1, min_row=2, max_col=1, max_row=len(resumen) + 1)\\n\\n        chart.add_data(data, titles_from_data=False)\\n        chart.set_categories(categories)\\n\\n        # Set chart title and axis titles\\n        chart.title = \"Ventas por Producto y Región\"\\n        chart.x_axis.title = \"Producto y Región\"\\n        chart.y_axis.title = \"Ventas\"\\n\\n        # Insert the chart into the \\'Grafica\\' sheet\\n        worksheet_grafica.add_chart(chart, \"B3\")\\n\\n\\n#Ejecutar cada día a las 08:00\\nschedule.every().day.at(\"08:00\").do(generar_reporte)\\n\\nwhile True:\\n    schedule.run_pending()\\n    time.sleep(1)\\n\\n'"
            ],
            "application/vnd.google.colaboratory.intrinsic+json": {
              "type": "string"
            }
          },
          "metadata": {},
          "execution_count": 29
        }
      ]
    },
    {
      "cell_type": "markdown",
      "source": [],
      "metadata": {
        "id": "yvZ65etO4rOB"
      }
    },
    {
      "cell_type": "code",
      "source": [],
      "metadata": {
        "id": "IVpeCBVw4a-k"
      },
      "execution_count": null,
      "outputs": []
    }
  ]
}