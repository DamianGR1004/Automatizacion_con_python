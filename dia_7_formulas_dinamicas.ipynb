{
  "nbformat": 4,
  "nbformat_minor": 0,
  "metadata": {
    "colab": {
      "provenance": []
    },
    "kernelspec": {
      "name": "python3",
      "display_name": "Python 3"
    },
    "language_info": {
      "name": "python"
    }
  },
  "cells": [
    {
      "cell_type": "markdown",
      "source": [
        "# Día 7: Fórmulas dinámicas y hojas interactivas en Excel"
      ],
      "metadata": {
        "id": "Ffjba5j4DNgM"
      }
    },
    {
      "cell_type": "markdown",
      "source": [
        "### Objetivos:\n",
        "Automatizar reportes de excel que incluyan\n",
        "\n",
        "*   Múltiples hojas (datos, resumen e indicadores)\n",
        "*   Formulas como **suma, sumar.si, buscarv**\n",
        "*   KPIs calculados y posicionados\n",
        "*   Celdas automáticas con formato y lógica dinámica\n",
        "\n"
      ],
      "metadata": {
        "id": "nr7HWcLlDXBN"
      }
    },
    {
      "cell_type": "code",
      "execution_count": 33,
      "metadata": {
        "id": "DivTfhI9BeYC",
        "colab": {
          "base_uri": "https://localhost:8080/"
        },
        "outputId": "c28f741f-1613-485f-9a15-0c4b209267fe"
      },
      "outputs": [
        {
          "output_type": "stream",
          "name": "stdout",
          "text": [
            "Requirement already satisfied: xlsxwriter in /usr/local/lib/python3.11/dist-packages (3.2.5)\n"
          ]
        }
      ],
      "source": [
        "!pip install xlsxwriter"
      ]
    },
    {
      "cell_type": "markdown",
      "source": [
        "#### Paso 1: simulamos un dataset"
      ],
      "metadata": {
        "id": "cqbpJbr-PO2w"
      }
    },
    {
      "cell_type": "code",
      "source": [
        "import pandas as pd\n",
        "import numpy as np"
      ],
      "metadata": {
        "id": "yaM0SfGfPIpK"
      },
      "execution_count": 34,
      "outputs": []
    },
    {
      "cell_type": "code",
      "source": [
        "# Creando el dataset\n",
        "\n",
        "np.random.seed(42)\n",
        "productos = ['Laptop', 'Tablet', 'Monitor', 'Teclado', 'Mouse']\n",
        "df = pd.DataFrame({\n",
        "    'Producto': np.random.choice(productos, 100),\n",
        "    'Ventas': np.random.randint(1000, 10000, 100)\n",
        "})"
      ],
      "metadata": {
        "id": "OgBKCwokPUOq"
      },
      "execution_count": 35,
      "outputs": []
    },
    {
      "cell_type": "code",
      "source": [
        "df.tail()"
      ],
      "metadata": {
        "colab": {
          "base_uri": "https://localhost:8080/",
          "height": 206
        },
        "id": "rjkA9UbeP6Qj",
        "outputId": "d5f341a6-67fd-4d37-e33d-1ca78a53ff7d"
      },
      "execution_count": 36,
      "outputs": [
        {
          "output_type": "execute_result",
          "data": {
            "text/plain": [
              "   Producto  Ventas\n",
              "95  Monitor    8125\n",
              "96    Mouse    2930\n",
              "97   Tablet    7287\n",
              "98   Tablet    9800\n",
              "99   Laptop    5282"
            ],
            "text/html": [
              "\n",
              "  <div id=\"df-d5933012-d483-489b-98c7-8e784bd2b204\" class=\"colab-df-container\">\n",
              "    <div>\n",
              "<style scoped>\n",
              "    .dataframe tbody tr th:only-of-type {\n",
              "        vertical-align: middle;\n",
              "    }\n",
              "\n",
              "    .dataframe tbody tr th {\n",
              "        vertical-align: top;\n",
              "    }\n",
              "\n",
              "    .dataframe thead th {\n",
              "        text-align: right;\n",
              "    }\n",
              "</style>\n",
              "<table border=\"1\" class=\"dataframe\">\n",
              "  <thead>\n",
              "    <tr style=\"text-align: right;\">\n",
              "      <th></th>\n",
              "      <th>Producto</th>\n",
              "      <th>Ventas</th>\n",
              "    </tr>\n",
              "  </thead>\n",
              "  <tbody>\n",
              "    <tr>\n",
              "      <th>95</th>\n",
              "      <td>Monitor</td>\n",
              "      <td>8125</td>\n",
              "    </tr>\n",
              "    <tr>\n",
              "      <th>96</th>\n",
              "      <td>Mouse</td>\n",
              "      <td>2930</td>\n",
              "    </tr>\n",
              "    <tr>\n",
              "      <th>97</th>\n",
              "      <td>Tablet</td>\n",
              "      <td>7287</td>\n",
              "    </tr>\n",
              "    <tr>\n",
              "      <th>98</th>\n",
              "      <td>Tablet</td>\n",
              "      <td>9800</td>\n",
              "    </tr>\n",
              "    <tr>\n",
              "      <th>99</th>\n",
              "      <td>Laptop</td>\n",
              "      <td>5282</td>\n",
              "    </tr>\n",
              "  </tbody>\n",
              "</table>\n",
              "</div>\n",
              "    <div class=\"colab-df-buttons\">\n",
              "\n",
              "  <div class=\"colab-df-container\">\n",
              "    <button class=\"colab-df-convert\" onclick=\"convertToInteractive('df-d5933012-d483-489b-98c7-8e784bd2b204')\"\n",
              "            title=\"Convert this dataframe to an interactive table.\"\n",
              "            style=\"display:none;\">\n",
              "\n",
              "  <svg xmlns=\"http://www.w3.org/2000/svg\" height=\"24px\" viewBox=\"0 -960 960 960\">\n",
              "    <path d=\"M120-120v-720h720v720H120Zm60-500h600v-160H180v160Zm220 220h160v-160H400v160Zm0 220h160v-160H400v160ZM180-400h160v-160H180v160Zm440 0h160v-160H620v160ZM180-180h160v-160H180v160Zm440 0h160v-160H620v160Z\"/>\n",
              "  </svg>\n",
              "    </button>\n",
              "\n",
              "  <style>\n",
              "    .colab-df-container {\n",
              "      display:flex;\n",
              "      gap: 12px;\n",
              "    }\n",
              "\n",
              "    .colab-df-convert {\n",
              "      background-color: #E8F0FE;\n",
              "      border: none;\n",
              "      border-radius: 50%;\n",
              "      cursor: pointer;\n",
              "      display: none;\n",
              "      fill: #1967D2;\n",
              "      height: 32px;\n",
              "      padding: 0 0 0 0;\n",
              "      width: 32px;\n",
              "    }\n",
              "\n",
              "    .colab-df-convert:hover {\n",
              "      background-color: #E2EBFA;\n",
              "      box-shadow: 0px 1px 2px rgba(60, 64, 67, 0.3), 0px 1px 3px 1px rgba(60, 64, 67, 0.15);\n",
              "      fill: #174EA6;\n",
              "    }\n",
              "\n",
              "    .colab-df-buttons div {\n",
              "      margin-bottom: 4px;\n",
              "    }\n",
              "\n",
              "    [theme=dark] .colab-df-convert {\n",
              "      background-color: #3B4455;\n",
              "      fill: #D2E3FC;\n",
              "    }\n",
              "\n",
              "    [theme=dark] .colab-df-convert:hover {\n",
              "      background-color: #434B5C;\n",
              "      box-shadow: 0px 1px 3px 1px rgba(0, 0, 0, 0.15);\n",
              "      filter: drop-shadow(0px 1px 2px rgba(0, 0, 0, 0.3));\n",
              "      fill: #FFFFFF;\n",
              "    }\n",
              "  </style>\n",
              "\n",
              "    <script>\n",
              "      const buttonEl =\n",
              "        document.querySelector('#df-d5933012-d483-489b-98c7-8e784bd2b204 button.colab-df-convert');\n",
              "      buttonEl.style.display =\n",
              "        google.colab.kernel.accessAllowed ? 'block' : 'none';\n",
              "\n",
              "      async function convertToInteractive(key) {\n",
              "        const element = document.querySelector('#df-d5933012-d483-489b-98c7-8e784bd2b204');\n",
              "        const dataTable =\n",
              "          await google.colab.kernel.invokeFunction('convertToInteractive',\n",
              "                                                    [key], {});\n",
              "        if (!dataTable) return;\n",
              "\n",
              "        const docLinkHtml = 'Like what you see? Visit the ' +\n",
              "          '<a target=\"_blank\" href=https://colab.research.google.com/notebooks/data_table.ipynb>data table notebook</a>'\n",
              "          + ' to learn more about interactive tables.';\n",
              "        element.innerHTML = '';\n",
              "        dataTable['output_type'] = 'display_data';\n",
              "        await google.colab.output.renderOutput(dataTable, element);\n",
              "        const docLink = document.createElement('div');\n",
              "        docLink.innerHTML = docLinkHtml;\n",
              "        element.appendChild(docLink);\n",
              "      }\n",
              "    </script>\n",
              "  </div>\n",
              "\n",
              "\n",
              "    <div id=\"df-7e32d57c-2d69-44b0-8b0c-8cdcf761f07d\">\n",
              "      <button class=\"colab-df-quickchart\" onclick=\"quickchart('df-7e32d57c-2d69-44b0-8b0c-8cdcf761f07d')\"\n",
              "                title=\"Suggest charts\"\n",
              "                style=\"display:none;\">\n",
              "\n",
              "<svg xmlns=\"http://www.w3.org/2000/svg\" height=\"24px\"viewBox=\"0 0 24 24\"\n",
              "     width=\"24px\">\n",
              "    <g>\n",
              "        <path d=\"M19 3H5c-1.1 0-2 .9-2 2v14c0 1.1.9 2 2 2h14c1.1 0 2-.9 2-2V5c0-1.1-.9-2-2-2zM9 17H7v-7h2v7zm4 0h-2V7h2v10zm4 0h-2v-4h2v4z\"/>\n",
              "    </g>\n",
              "</svg>\n",
              "      </button>\n",
              "\n",
              "<style>\n",
              "  .colab-df-quickchart {\n",
              "      --bg-color: #E8F0FE;\n",
              "      --fill-color: #1967D2;\n",
              "      --hover-bg-color: #E2EBFA;\n",
              "      --hover-fill-color: #174EA6;\n",
              "      --disabled-fill-color: #AAA;\n",
              "      --disabled-bg-color: #DDD;\n",
              "  }\n",
              "\n",
              "  [theme=dark] .colab-df-quickchart {\n",
              "      --bg-color: #3B4455;\n",
              "      --fill-color: #D2E3FC;\n",
              "      --hover-bg-color: #434B5C;\n",
              "      --hover-fill-color: #FFFFFF;\n",
              "      --disabled-bg-color: #3B4455;\n",
              "      --disabled-fill-color: #666;\n",
              "  }\n",
              "\n",
              "  .colab-df-quickchart {\n",
              "    background-color: var(--bg-color);\n",
              "    border: none;\n",
              "    border-radius: 50%;\n",
              "    cursor: pointer;\n",
              "    display: none;\n",
              "    fill: var(--fill-color);\n",
              "    height: 32px;\n",
              "    padding: 0;\n",
              "    width: 32px;\n",
              "  }\n",
              "\n",
              "  .colab-df-quickchart:hover {\n",
              "    background-color: var(--hover-bg-color);\n",
              "    box-shadow: 0 1px 2px rgba(60, 64, 67, 0.3), 0 1px 3px 1px rgba(60, 64, 67, 0.15);\n",
              "    fill: var(--button-hover-fill-color);\n",
              "  }\n",
              "\n",
              "  .colab-df-quickchart-complete:disabled,\n",
              "  .colab-df-quickchart-complete:disabled:hover {\n",
              "    background-color: var(--disabled-bg-color);\n",
              "    fill: var(--disabled-fill-color);\n",
              "    box-shadow: none;\n",
              "  }\n",
              "\n",
              "  .colab-df-spinner {\n",
              "    border: 2px solid var(--fill-color);\n",
              "    border-color: transparent;\n",
              "    border-bottom-color: var(--fill-color);\n",
              "    animation:\n",
              "      spin 1s steps(1) infinite;\n",
              "  }\n",
              "\n",
              "  @keyframes spin {\n",
              "    0% {\n",
              "      border-color: transparent;\n",
              "      border-bottom-color: var(--fill-color);\n",
              "      border-left-color: var(--fill-color);\n",
              "    }\n",
              "    20% {\n",
              "      border-color: transparent;\n",
              "      border-left-color: var(--fill-color);\n",
              "      border-top-color: var(--fill-color);\n",
              "    }\n",
              "    30% {\n",
              "      border-color: transparent;\n",
              "      border-left-color: var(--fill-color);\n",
              "      border-top-color: var(--fill-color);\n",
              "      border-right-color: var(--fill-color);\n",
              "    }\n",
              "    40% {\n",
              "      border-color: transparent;\n",
              "      border-right-color: var(--fill-color);\n",
              "      border-top-color: var(--fill-color);\n",
              "    }\n",
              "    60% {\n",
              "      border-color: transparent;\n",
              "      border-right-color: var(--fill-color);\n",
              "    }\n",
              "    80% {\n",
              "      border-color: transparent;\n",
              "      border-right-color: var(--fill-color);\n",
              "      border-bottom-color: var(--fill-color);\n",
              "    }\n",
              "    90% {\n",
              "      border-color: transparent;\n",
              "      border-bottom-color: var(--fill-color);\n",
              "    }\n",
              "  }\n",
              "</style>\n",
              "\n",
              "      <script>\n",
              "        async function quickchart(key) {\n",
              "          const quickchartButtonEl =\n",
              "            document.querySelector('#' + key + ' button');\n",
              "          quickchartButtonEl.disabled = true;  // To prevent multiple clicks.\n",
              "          quickchartButtonEl.classList.add('colab-df-spinner');\n",
              "          try {\n",
              "            const charts = await google.colab.kernel.invokeFunction(\n",
              "                'suggestCharts', [key], {});\n",
              "          } catch (error) {\n",
              "            console.error('Error during call to suggestCharts:', error);\n",
              "          }\n",
              "          quickchartButtonEl.classList.remove('colab-df-spinner');\n",
              "          quickchartButtonEl.classList.add('colab-df-quickchart-complete');\n",
              "        }\n",
              "        (() => {\n",
              "          let quickchartButtonEl =\n",
              "            document.querySelector('#df-7e32d57c-2d69-44b0-8b0c-8cdcf761f07d button');\n",
              "          quickchartButtonEl.style.display =\n",
              "            google.colab.kernel.accessAllowed ? 'block' : 'none';\n",
              "        })();\n",
              "      </script>\n",
              "    </div>\n",
              "\n",
              "    </div>\n",
              "  </div>\n"
            ],
            "application/vnd.google.colaboratory.intrinsic+json": {
              "type": "dataframe",
              "summary": "{\n  \"name\": \"df\",\n  \"rows\": 5,\n  \"fields\": [\n    {\n      \"column\": \"Producto\",\n      \"properties\": {\n        \"dtype\": \"string\",\n        \"num_unique_values\": 4,\n        \"samples\": [\n          \"Mouse\",\n          \"Laptop\",\n          \"Monitor\"\n        ],\n        \"semantic_type\": \"\",\n        \"description\": \"\"\n      }\n    },\n    {\n      \"column\": \"Ventas\",\n      \"properties\": {\n        \"dtype\": \"number\",\n        \"std\": 2655,\n        \"min\": 2930,\n        \"max\": 9800,\n        \"num_unique_values\": 5,\n        \"samples\": [\n          2930,\n          5282,\n          7287\n        ],\n        \"semantic_type\": \"\",\n        \"description\": \"\"\n      }\n    }\n  ]\n}"
            }
          },
          "metadata": {},
          "execution_count": 36
        }
      ]
    },
    {
      "cell_type": "markdown",
      "source": [
        "#### Paso 2: Exportar a Excel con hoja de resumen + fórmula dinámica"
      ],
      "metadata": {
        "id": "aeS7YQcUQAd7"
      }
    },
    {
      "cell_type": "code",
      "source": [
        "with pd.ExcelWriter('reporte_con_formulas.xlsx', engine='xlsxwriter') as writer:\n",
        "    # Hoja 1: datos\n",
        "    df.to_excel(writer, sheet_name='Datos', index=False)\n",
        "    workbook = writer.book\n",
        "    hoja_datos = writer.sheets['Datos']\n",
        "\n",
        "    # Hoja 2: resumen\n",
        "    hoja_resumen = workbook.add_worksheet('Resumen')\n",
        "\n",
        "    # Encabezados\n",
        "    hoja_resumen.write('A1', 'Producto')\n",
        "    hoja_resumen.write('B1', 'Total Ventas')\n",
        "\n",
        "    # Insertar productos únicos y fórmulas SUMAR.SI\n",
        "    for i, producto in enumerate(productos):\n",
        "        hoja_resumen.write(i+1, 0, producto)\n",
        "        hoja_resumen.write_formula(i+1, 1,\n",
        "            f'=SUMAR.SI(Datos!A:A,Resumen!A{i+2},Datos!B:B)'\n",
        "        )\n",
        "\n",
        "    # Formato moneda\n",
        "    formato_moneda = workbook.add_format({'num_format': '$#,##0'})\n",
        "    hoja_resumen.set_column('B:B', 15, formato_moneda)\n",
        "\n"
      ],
      "metadata": {
        "id": "76eVizvBP7yY"
      },
      "execution_count": 45,
      "outputs": []
    },
    {
      "cell_type": "markdown",
      "source": [
        "### Ejericio 2: Insertar un KPI destacado (total general)\n"
      ],
      "metadata": {
        "id": "f5qMPelqTxmD"
      }
    },
    {
      "cell_type": "code",
      "source": [
        "# KPI en celda separada (E1)\n",
        "hoja_resumen.write('D1', 'Total General')\n",
        "hoja_resumen.write_formula('E1', f'=SUM(B2:B{len(productos)+1})', formato_moneda)\n",
        "\n",
        "# Dar estilo a KPI\n",
        "formato_kpi = workbook.add_format({\n",
        "    'bold': True, 'font_color': 'white', 'bg_color': '#4472C4',\n",
        "    'align': 'center', 'valign': 'vcenter'\n",
        "})\n",
        "hoja_resumen.set_column('D:E', 20)\n",
        "hoja_resumen.write('D1', 'Total General', formato_kpi)\n",
        "hoja_resumen.write_formula('E1', f'=SUM(B2:B{len(productos)+1})', formato_moneda)\n"
      ],
      "metadata": {
        "colab": {
          "base_uri": "https://localhost:8080/"
        },
        "id": "E3RwJysaT8Tf",
        "outputId": "70e1f441-b60f-4f6b-d701-4015e9cd5867"
      },
      "execution_count": 46,
      "outputs": [
        {
          "output_type": "execute_result",
          "data": {
            "text/plain": [
              "0"
            ]
          },
          "metadata": {},
          "execution_count": 46
        }
      ]
    },
    {
      "cell_type": "markdown",
      "source": [
        "### Ejercicio 3: Agregar una funcion BUSCARV"
      ],
      "metadata": {
        "id": "Fbhs7ZyeVeQg"
      }
    },
    {
      "cell_type": "markdown",
      "source": [
        "Agrega una tabla donde el usuario escriba un producto y vea su total de ventas automáticamente"
      ],
      "metadata": {
        "id": "XpJBsxq4Vj6-"
      }
    },
    {
      "cell_type": "code",
      "source": [
        "\n",
        "hoja_resumen.write('G1', 'Buscar Producto:')\n",
        "hoja_resumen.write('G2', '')  # Celda editable\n",
        "hoja_resumen.write('H1', 'Ventas Totales:')\n",
        "hoja_resumen.write_formula('H2', '=BUSCARV(Datos!A:A,G2,Datos!B:B)')\n"
      ],
      "metadata": {
        "id": "ammSdv9uVinw",
        "colab": {
          "base_uri": "https://localhost:8080/"
        },
        "outputId": "1b63c2aa-58a8-4b46-944e-474247b69baf"
      },
      "execution_count": 47,
      "outputs": [
        {
          "output_type": "execute_result",
          "data": {
            "text/plain": [
              "0"
            ]
          },
          "metadata": {},
          "execution_count": 47
        }
      ]
    },
    {
      "cell_type": "code",
      "source": [],
      "metadata": {
        "id": "-FxjwUk2W0n4"
      },
      "execution_count": 39,
      "outputs": []
    }
  ]
}